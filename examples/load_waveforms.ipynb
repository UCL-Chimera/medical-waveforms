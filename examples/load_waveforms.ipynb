{
 "cells": [
  {
   "cell_type": "markdown",
   "metadata": {},
   "source": [
    "# Example data loading\n",
    "\n",
    "Please read and only use the data under the terms of the [VitalDB Data Use Agreement](https://vitaldb.net/dataset/?query=overview&documentId=13qqajnNZzkN7NZ9aXnaQ-47NWy7kx-a6gbrcEsi-gak&sectionId=h.usmoena3l4rb)"
   ]
  },
  {
   "cell_type": "code",
   "execution_count": 9,
   "metadata": {},
   "outputs": [],
   "source": [
    "import os, sys\n",
    "sys.path.append(os.pardir)\n",
    "\n",
    "import pandas as pd\n",
    "\n",
    "from sidewinder.waveforms import Waveforms"
   ]
  },
  {
   "cell_type": "code",
   "execution_count": 14,
   "metadata": {},
   "outputs": [],
   "source": [
    "waveforms = pd.read_csv(\n",
    "    os.path.join(\n",
    "        os.pardir, 'local_data', 'abp_waveform_extract.csv'),\n",
    "        index_col=0\n",
    ")"
   ]
  },
  {
   "cell_type": "code",
   "execution_count": 11,
   "metadata": {},
   "outputs": [],
   "source": [
    "wf = Waveforms(waveforms)"
   ]
  }
 ],
 "metadata": {
  "interpreter": {
   "hash": "f2c1554fc2f673ff3983ee6916670176b140c542ca5d14124814c0e65b9d8c04"
  },
  "kernelspec": {
   "display_name": "Python 3.9.9 64-bit ('sidewinder-lxfscp8q-py3.9': poetry)",
   "language": "python",
   "name": "python3"
  },
  "language_info": {
   "codemirror_mode": {
    "name": "ipython",
    "version": 3
   },
   "file_extension": ".py",
   "mimetype": "text/x-python",
   "name": "python",
   "nbconvert_exporter": "python",
   "pygments_lexer": "ipython3",
   "version": "3.9.9"
  },
  "orig_nbformat": 4
 },
 "nbformat": 4,
 "nbformat_minor": 2
}
