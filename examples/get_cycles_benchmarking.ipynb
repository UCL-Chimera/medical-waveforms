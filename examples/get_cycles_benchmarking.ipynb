{
 "cells": [
  {
   "cell_type": "markdown",
   "metadata": {},
   "source": [
    "# Testing performance overhead of running `get_cycles()` once per cycle feature extraction\n",
    "\n",
    "The alternative is a memory overhead where we run `get_cycles()` once and store the result, but this might be a big overhead if there are lots of data."
   ]
  },
  {
   "cell_type": "code",
   "execution_count": 1,
   "metadata": {},
   "outputs": [],
   "source": [
    "import os, sys\n",
    "sys.path.append(os.pardir)  # Needed for sidewinder import before we install it\n",
    "\n",
    "import matplotlib.pyplot as plt\n",
    "\n",
    "from sidewinder import synthetic\n",
    "from sidewinder.waveforms import Waveforms\n",
    "from sidewinder.features.waveform import find_troughs, find_troughs_mod_Scholkmann\n",
    "from sidewinder.features import cycle"
   ]
  },
  {
   "cell_type": "markdown",
   "metadata": {},
   "source": [
    "## Load reasonably large amount of waveform data\n",
    "\n",
    "We generate 20 minutes of synthetic arterial blood pressure data at 100Hz for demonstration purposes."
   ]
  },
  {
   "cell_type": "code",
   "execution_count": 2,
   "metadata": {},
   "outputs": [],
   "source": [
    "data = synthetic.synthetic_arterial_pressure_data(\n",
    "    systolic_pressure=120,\n",
    "    diastolic_pressure=80,\n",
    "    heart_rate=70,\n",
    "    n_beats_target=100,\n",
    "    hertz=100\n",
    ")"
   ]
  },
  {
   "cell_type": "code",
   "execution_count": 3,
   "metadata": {},
   "outputs": [
    {
     "data": {
      "text/html": [
       "<div>\n",
       "<style scoped>\n",
       "    .dataframe tbody tr th:only-of-type {\n",
       "        vertical-align: middle;\n",
       "    }\n",
       "\n",
       "    .dataframe tbody tr th {\n",
       "        vertical-align: top;\n",
       "    }\n",
       "\n",
       "    .dataframe thead th {\n",
       "        text-align: right;\n",
       "    }\n",
       "</style>\n",
       "<table border=\"1\" class=\"dataframe\">\n",
       "  <thead>\n",
       "    <tr style=\"text-align: right;\">\n",
       "      <th></th>\n",
       "      <th>time</th>\n",
       "      <th>pressure</th>\n",
       "    </tr>\n",
       "  </thead>\n",
       "  <tbody>\n",
       "    <tr>\n",
       "      <th>0</th>\n",
       "      <td>0.00</td>\n",
       "      <td>80.036900</td>\n",
       "    </tr>\n",
       "    <tr>\n",
       "      <th>1</th>\n",
       "      <td>0.01</td>\n",
       "      <td>80.491320</td>\n",
       "    </tr>\n",
       "    <tr>\n",
       "      <th>2</th>\n",
       "      <td>0.02</td>\n",
       "      <td>82.081806</td>\n",
       "    </tr>\n",
       "    <tr>\n",
       "      <th>3</th>\n",
       "      <td>0.03</td>\n",
       "      <td>85.217117</td>\n",
       "    </tr>\n",
       "    <tr>\n",
       "      <th>4</th>\n",
       "      <td>0.04</td>\n",
       "      <td>89.627306</td>\n",
       "    </tr>\n",
       "  </tbody>\n",
       "</table>\n",
       "</div>"
      ],
      "text/plain": [
       "   time   pressure\n",
       "0  0.00  80.036900\n",
       "1  0.01  80.491320\n",
       "2  0.02  82.081806\n",
       "3  0.03  85.217117\n",
       "4  0.04  89.627306"
      ]
     },
     "execution_count": 3,
     "metadata": {},
     "output_type": "execute_result"
    }
   ],
   "source": [
    "data.head()"
   ]
  },
  {
   "cell_type": "markdown",
   "metadata": {},
   "source": [
    "## Load the data into `sidewinder`"
   ]
  },
  {
   "cell_type": "code",
   "execution_count": 4,
   "metadata": {},
   "outputs": [],
   "source": [
    "wf = Waveforms(data)"
   ]
  },
  {
   "cell_type": "code",
   "execution_count": 5,
   "metadata": {},
   "outputs": [
    {
     "data": {
      "text/plain": [
       "17144"
      ]
     },
     "execution_count": 5,
     "metadata": {},
     "output_type": "execute_result"
    }
   ],
   "source": [
    "wf.waveforms.size"
   ]
  },
  {
   "cell_type": "markdown",
   "metadata": {},
   "source": [
    "## Find troughs in a waveform\n",
    "\n",
    "For example, we could use the troughs to split our arterial blood pressure data into separate heartbeats."
   ]
  },
  {
   "cell_type": "code",
   "execution_count": 6,
   "metadata": {},
   "outputs": [],
   "source": [
    "\n",
    "wf = find_troughs(wf, name='pressure')\n"
   ]
  },
  {
   "cell_type": "code",
   "execution_count": 7,
   "metadata": {},
   "outputs": [
    {
     "name": "stdout",
     "output_type": "stream",
     "text": [
      "starting\n",
      "[-12.72911406 -12.27465907 -10.68413785 ... -12.3014285  -12.40062464\n",
      " -12.46200751]\n",
      "[[False False False ... False False False]\n",
      " [False False False ... False False False]\n",
      " [False False False ... False False False]\n",
      " ...\n",
      " [False False False ... False False False]\n",
      " [False False False ... False False False]\n",
      " [False False False ... False False False]]\n",
      "[  0 200 400 ...   0   0   0]\n"
     ]
    },
    {
     "ename": "TypeError",
     "evalue": "'builtin_function_or_method' object is not subscriptable",
     "output_type": "error",
     "traceback": [
      "\u001b[0;31m---------------------------------------------------------------------------\u001b[0m",
      "\u001b[0;31mTypeError\u001b[0m                                 Traceback (most recent call last)",
      "\u001b[1;32m/home/jmathilee/code/sidewinder/examples/get_cycles_benchmarking.ipynb Cell 11\u001b[0m in \u001b[0;36m<cell line: 1>\u001b[0;34m()\u001b[0m\n\u001b[0;32m----> <a href='vscode-notebook-cell://wsl%2Bubuntu/home/jmathilee/code/sidewinder/examples/get_cycles_benchmarking.ipynb#X15sdnNjb2RlLXJlbW90ZQ%3D%3D?line=0'>1</a>\u001b[0m wf \u001b[39m-\u001b[39m find_troughs_mod_Scholkmann(wf, name\u001b[39m=\u001b[39;49m\u001b[39m\"\u001b[39;49m\u001b[39mpressure\u001b[39;49m\u001b[39m\"\u001b[39;49m)\n",
      "File \u001b[0;32m~/code/sidewinder/sidewinder/features/waveform.py:103\u001b[0m, in \u001b[0;36mfind_troughs_mod_Scholkmann\u001b[0;34m(waveforms, name)\u001b[0m\n\u001b[1;32m     88\u001b[0m \u001b[39mdef\u001b[39;00m \u001b[39mfind_troughs_mod_Scholkmann\u001b[39m(waveforms: Waveforms, name: \u001b[39mstr\u001b[39m) \u001b[39m-\u001b[39m\u001b[39m>\u001b[39m Waveforms:\n\u001b[1;32m     89\u001b[0m     \u001b[39m\"\"\"\u001b[39;00m\n\u001b[1;32m     90\u001b[0m \u001b[39m    Implementation of modified scholkmann algorithm\u001b[39;00m\n\u001b[1;32m     91\u001b[0m \u001b[39m    modified version reduced RAM usage\u001b[39;00m\n\u001b[0;32m   (...)\u001b[0m\n\u001b[1;32m    100\u001b[0m \u001b[39m            `waveforms.waveform_features[`name`]['troughs']`\u001b[39;00m\n\u001b[1;32m    101\u001b[0m \u001b[39m    \"\"\"\u001b[39;00m\n\u001b[0;32m--> 103\u001b[0m     peaks, troughs \u001b[39m=\u001b[39m modifed_scholkmann(waveforms\u001b[39m.\u001b[39;49mwaveforms[name])\n\u001b[1;32m    104\u001b[0m     waveforms\u001b[39m.\u001b[39mwaveforms[name][\u001b[39m\"\u001b[39m\u001b[39mpeaks\u001b[39m\u001b[39m\"\u001b[39m] \u001b[39m=\u001b[39m peaks\n\u001b[1;32m    105\u001b[0m     waveforms\u001b[39m.\u001b[39mwaveforms[name][\u001b[39m\"\u001b[39m\u001b[39mtroughs\u001b[39m\u001b[39m\"\u001b[39m] \u001b[39m=\u001b[39m troughs\n",
      "File \u001b[0;32m~/code/sidewinder/sidewinder/features/waveform.py:70\u001b[0m, in \u001b[0;36mmodifed_scholkmann\u001b[0;34m(wave)\u001b[0m\n\u001b[1;32m     68\u001b[0m \u001b[39mprint\u001b[39m(Y)\n\u001b[1;32m     69\u001b[0m d \u001b[39m=\u001b[39m Y\u001b[39m.\u001b[39margmax(axis\u001b[39m=\u001b[39m\u001b[39m0\u001b[39m)\n\u001b[0;32m---> 70\u001b[0m Mx \u001b[39m=\u001b[39m Mx\u001b[39m.\u001b[39;49mreshape[:, :d]\n\u001b[1;32m     72\u001b[0m Y \u001b[39m=\u001b[39m np\u001b[39m.\u001b[39msum(Mn, axis\u001b[39m=\u001b[39m\u001b[39m0\u001b[39m)\n\u001b[1;32m     73\u001b[0m d \u001b[39m=\u001b[39m Y\u001b[39m.\u001b[39margmax(axis\u001b[39m=\u001b[39m\u001b[39m0\u001b[39m)\n",
      "\u001b[0;31mTypeError\u001b[0m: 'builtin_function_or_method' object is not subscriptable"
     ]
    }
   ],
   "source": [
    "wf - find_troughs_mod_Scholkmann(wf, name=\"pressure\")"
   ]
  },
  {
   "cell_type": "code",
   "execution_count": null,
   "metadata": {},
   "outputs": [
    {
     "name": "stdout",
     "output_type": "stream",
     "text": [
      "36.7 ms ± 2.98 ms per loop (mean ± std. dev. of 7 runs, 10 loops each)\n"
     ]
    }
   ],
   "source": [
    "%%timeit\n",
    "cycles = cycle.get_cycles(wf, 'pressure')"
   ]
  },
  {
   "cell_type": "markdown",
   "metadata": {},
   "source": [
    "This is quite a small performance overhead."
   ]
  }
 ],
 "metadata": {
  "kernelspec": {
   "display_name": "Python 3.10.4 ('sidewinder-2oHyVyc6-py3.10')",
   "language": "python",
   "name": "python3"
  },
  "language_info": {
   "codemirror_mode": {
    "name": "ipython",
    "version": 3
   },
   "file_extension": ".py",
   "mimetype": "text/x-python",
   "name": "python",
   "nbconvert_exporter": "python",
   "pygments_lexer": "ipython3",
   "version": "3.10.4"
  },
  "orig_nbformat": 4,
  "vscode": {
   "interpreter": {
    "hash": "1bfcc2569c35a08f813eeb65276d1ec50bd3a0e1d9299a82eb0779dd30ca61c8"
   }
  }
 },
 "nbformat": 4,
 "nbformat_minor": 2
}
