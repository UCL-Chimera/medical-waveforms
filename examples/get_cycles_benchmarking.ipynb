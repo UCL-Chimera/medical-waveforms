{
 "cells": [
  {
   "cell_type": "markdown",
   "metadata": {},
   "source": [
    "# Testing performance overhead of running `get_cycles()` once per cycle feature extraction\n",
    "\n",
    "The alternative is a memory overhead where we run `get_cycles()` once and store the result, but this might be a big overhead if there are lots of data."
   ]
  },
  {
   "cell_type": "code",
   "execution_count": 1,
   "metadata": {},
   "outputs": [],
   "source": [
    "import os, sys\n",
    "sys.path.append(os.pardir)  # Needed for sidewinder import before we install it\n",
    "\n",
    "import matplotlib.pyplot as plt\n",
    "\n",
    "from sidewinder import synthetic\n",
    "from sidewinder.waveforms import Waveforms\n",
    "from sidewinder.features.waveform import find_troughs\n",
    "from sidewinder.features import cycle"
   ]
  },
  {
   "cell_type": "markdown",
   "metadata": {},
   "source": [
    "## Load reasonably large amount of waveform data\n",
    "\n",
    "We generate 20 minutes of synthetic arterial blood pressure data at 100Hz for demonstration purposes."
   ]
  },
  {
   "cell_type": "code",
   "execution_count": 17,
   "metadata": {},
   "outputs": [],
   "source": [
    "data = synthetic.synthetic_arterial_pressure_data(\n",
    "    systolic_pressure=120,\n",
    "    diastolic_pressure=80,\n",
    "    heart_rate=70,\n",
    "    n_beats_target=20 * 60 / (60 / 70),\n",
    "    hertz=100\n",
    ")"
   ]
  },
  {
   "cell_type": "markdown",
   "metadata": {},
   "source": [
    "## Load the data into `sidewinder`"
   ]
  },
  {
   "cell_type": "code",
   "execution_count": 18,
   "metadata": {},
   "outputs": [],
   "source": [
    "wf = Waveforms(data)"
   ]
  },
  {
   "cell_type": "code",
   "execution_count": 19,
   "metadata": {},
   "outputs": [
    {
     "data": {
      "text/plain": [
       "240002"
      ]
     },
     "execution_count": 19,
     "metadata": {},
     "output_type": "execute_result"
    }
   ],
   "source": [
    "wf.waveforms.size"
   ]
  },
  {
   "cell_type": "markdown",
   "metadata": {},
   "source": [
    "## Find troughs in a waveform\n",
    "\n",
    "For example, we could use the troughs to split our arterial blood pressure data into separate heartbeats."
   ]
  },
  {
   "cell_type": "code",
   "execution_count": 20,
   "metadata": {},
   "outputs": [],
   "source": [
    "wf = find_troughs(wf, name='pressure')"
   ]
  },
  {
   "cell_type": "code",
   "execution_count": 21,
   "metadata": {},
   "outputs": [
    {
     "name": "stdout",
     "output_type": "stream",
     "text": [
      "25.2 ms ± 3.37 ms per loop (mean ± std. dev. of 7 runs, 10 loops each)\n"
     ]
    }
   ],
   "source": [
    "%%timeit\n",
    "cycles = cycle.get_cycles(wf, 'pressure')"
   ]
  },
  {
   "cell_type": "markdown",
   "metadata": {},
   "source": [
    "This is quite a small performance overhead."
   ]
  }
 ],
 "metadata": {
  "kernelspec": {
   "display_name": "Python 3.10.2 ('sidewinder-axJzVSFK-py3.10')",
   "language": "python",
   "name": "python3"
  },
  "language_info": {
   "codemirror_mode": {
    "name": "ipython",
    "version": 3
   },
   "file_extension": ".py",
   "mimetype": "text/x-python",
   "name": "python",
   "nbconvert_exporter": "python",
   "pygments_lexer": "ipython3",
   "version": "3.10.2"
  },
  "orig_nbformat": 4,
  "vscode": {
   "interpreter": {
    "hash": "52b33a274511e606d62a0c6c9d6ddb3dbbb94c75bbbe067dfc3130d53f815d2e"
   }
  }
 },
 "nbformat": 4,
 "nbformat_minor": 2
}
